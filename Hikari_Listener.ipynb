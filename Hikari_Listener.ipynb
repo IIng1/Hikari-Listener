{
 "cells": [
  {
   "cell_type": "markdown",
   "id": "1e4d869b",
   "metadata": {},
   "source": [
    "# 🌸 Hikari Listener Notebook\n",
    "\n",
    "**Hikari** is an **AI-based system** with a user interface built using **Streamlit**.\n",
    "It utilizes the **Qwen1.5** model in combination with **task-specific LoRA adapters** for sentence generation and user translation rating.\n",
    "For **text-to-speech synthesis**, it supports the **Suno/Bark** models or **Google TTS** as a lightweight alternative for systems without **CUDA** or with low performance.\n",
    "                                                                                                                     \n",
    "- Author: [IIng1](https://github.com/IIng1)"
   ]
  },
  {
   "cell_type": "code",
   "execution_count": null,
   "id": "49c363c2",
   "metadata": {
    "vscode": {
     "languageId": "plaintext"
    }
   },
   "outputs": [],
   "source": [
    "#@title #Check if the GPU is setup (optional)\n",
    "#@markdown Some models may run very slowly on the CPU.\n",
    "!nvidia-smi"
   ]
  },
  {
   "cell_type": "code",
   "execution_count": null,
   "id": "3cc8edb5",
   "metadata": {
    "vscode": {
     "languageId": "plaintext"
    }
   },
   "outputs": [],
   "source": [
    "#@title #Clone repository\n",
    "#@markdown This cell will copy the repository.\n",
    "!git clone https://github.com/IIng1/Hikari-Listener.git\n",
    "%cd Hikari-Listener"
   ]
  },
  {
   "cell_type": "code",
   "execution_count": null,
   "id": "32f89e2b",
   "metadata": {
    "vscode": {
     "languageId": "plaintext"
    }
   },
   "outputs": [],
   "source": [
    "#@title #Install all dependencies\n",
    "#@markdown This cell will install all dependencies for this system.\n",
    "!pip install -r requirements.txt\n",
    "# !npm install -g localtunnel\n",
    "!wget https://github.com/cloudflare/cloudflared/releases/latest/download/cloudflared-linux-amd64.deb\n",
    "!dpkg -i cloudflared-linux-amd64.deb"
   ]
  },
  {
   "cell_type": "code",
   "execution_count": null,
   "id": "7de4a085",
   "metadata": {
    "vscode": {
     "languageId": "plaintext"
    }
   },
   "outputs": [],
   "source": [
    "#@title #Start app\n",
    "#@markdown This cell starts this app using the Cloudflared tunnel.\n",
    "!python app.py USE_CLOUDFLARED"
   ]
  }
 ],
 "metadata": {
  "language_info": {
   "name": "python"
  }
 },
 "nbformat": 4,
 "nbformat_minor": 5
}
